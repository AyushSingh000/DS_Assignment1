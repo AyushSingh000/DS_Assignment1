{
 "cells": [
  {
   "cell_type": "code",
   "execution_count": 4,
   "id": "40497591-19fd-421c-adec-e660346d690f",
   "metadata": {},
   "outputs": [],
   "source": [
    "# Answer 1 Python programing language was developed by Guido van Rossum."
   ]
  },
  {
   "cell_type": "code",
   "execution_count": 5,
   "id": "b0829498-34d5-456f-b6bb-daef0607e7b3",
   "metadata": {},
   "outputs": [],
   "source": [
    "# Answer 2 Python supports imperative, functional, procedural, and object-oriented programming."
   ]
  },
  {
   "cell_type": "code",
   "execution_count": 6,
   "id": "e268db6d-d25a-473b-bcd6-a435c8e4662e",
   "metadata": {},
   "outputs": [],
   "source": [
    "# Answer 3 Yes, Python is a case-sensitive language."
   ]
  },
  {
   "cell_type": "code",
   "execution_count": 7,
   "id": "f9c54ddf-1d37-4e19-aa71-3c75224befeb",
   "metadata": {},
   "outputs": [],
   "source": [
    "# Answer 4 Python has an extension called (.py)."
   ]
  },
  {
   "cell_type": "code",
   "execution_count": 8,
   "id": "4501d023-3b22-4754-b2f8-e216e5032798",
   "metadata": {},
   "outputs": [],
   "source": [
    "# Answer 5 python is interpreted."
   ]
  },
  {
   "cell_type": "code",
   "execution_count": 9,
   "id": "1ee19d24-9f67-4f85-9281-769eaffec611",
   "metadata": {},
   "outputs": [],
   "source": [
    "# Answer 6 Few blocks of code used to define in Python language are if, elif, else, for etc."
   ]
  },
  {
   "cell_type": "code",
   "execution_count": 10,
   "id": "0c5faf8a-f611-4568-ab2f-f628e05faf6c",
   "metadata": {},
   "outputs": [],
   "source": [
    "# Answer 7 Hash character(#) is used to comment the single line in the Python program."
   ]
  },
  {
   "cell_type": "code",
   "execution_count": 24,
   "id": "6e48af00-ee55-4d8a-8093-5c7cc2309a0b",
   "metadata": {},
   "outputs": [
    {
     "data": {
      "text/plain": [
       "'Answer 8 To get the Version of the python Interpreter, they are listed as follows:\\nUsing sys.version method\\nUsing python_version() function\\nUsing Python -V command'"
      ]
     },
     "execution_count": 24,
     "metadata": {},
     "output_type": "execute_result"
    }
   ],
   "source": [
    "'''Answer 8 To get the Version of the python Interpreter, they are listed as follows:\n",
    "Using sys.version method\n",
    "Using python_version() function\n",
    "Using Python -V command'''"
   ]
  },
  {
   "cell_type": "code",
   "execution_count": 23,
   "id": "9226f319-d17d-49a2-b9f4-92de09757180",
   "metadata": {},
   "outputs": [],
   "source": [
    "# Anwser 9 Python Lambda Functions are anonymous function means that the function is without a name. "
   ]
  },
  {
   "cell_type": "code",
   "execution_count": 26,
   "id": "a9aaf842-b121-446c-a7fa-4684d21abf6b",
   "metadata": {},
   "outputs": [
    {
     "data": {
      "text/plain": [
       "'Answe 10 PIP is a recursive acronym for “Preferred Installer Program” or PIP Installs Packages. \\nIt is a command-line utility that installs, reinstalls, or uninstalls PyPI packages with one simple command: pip.'"
      ]
     },
     "execution_count": 26,
     "metadata": {},
     "output_type": "execute_result"
    }
   ],
   "source": [
    "'''Answe 10 PIP is a recursive acronym for “Preferred Installer Program” or PIP Installs Packages. \n",
    "It is a command-line utility that installs, reinstalls, or uninstalls PyPI packages with one simple command: pip.'''"
   ]
  },
  {
   "cell_type": "code",
   "execution_count": 28,
   "id": "2c768d27-badb-4668-a838-fd486a1335d6",
   "metadata": {},
   "outputs": [
    {
     "data": {
      "text/plain": [
       "' Answer 11 Python Built-in Functions\\nprint( ) function.\\ntype( ) function.\\ninput( ) function.\\nabs( ) function.\\npow( ) function.\\ndir( ) function.\\nsorted( ) function.\\nmax( ) function.'"
      ]
     },
     "execution_count": 28,
     "metadata": {},
     "output_type": "execute_result"
    }
   ],
   "source": [
    "''' Answer 11 Python Built-in Functions\n",
    "print( ) function.\n",
    "type( ) function.\n",
    "input( ) function.\n",
    "abs( ) function.\n",
    "pow( ) function.\n",
    "dir( ) function.\n",
    "sorted( ) function.\n",
    "max( ) function.'''"
   ]
  },
  {
   "cell_type": "code",
   "execution_count": 29,
   "id": "252afdb8-3fa9-4b59-947d-7a623154271a",
   "metadata": {},
   "outputs": [],
   "source": [
    "# Answer 12 An identifier can have a maximum length of 79 characters in Python"
   ]
  },
  {
   "cell_type": "code",
   "execution_count": 31,
   "id": "b8a2176c-cc51-47b2-aef9-bdcc9e7f814c",
   "metadata": {},
   "outputs": [
    {
     "data": {
      "text/plain": [
       "'Answer 13 Three benefits are \\nSimple to Use and Understand. For newcomers, Python is simple to understand and use.\\nFree and Open-Source.\\nExtensive library.'"
      ]
     },
     "execution_count": 31,
     "metadata": {},
     "output_type": "execute_result"
    }
   ],
   "source": [
    "'''Answer 13 Three benefits are \n",
    "Simple to Use and Understand. For newcomers, Python is simple to understand and use.\n",
    "Free and Open-Source.\n",
    "Extensive library.'''"
   ]
  },
  {
   "cell_type": "code",
   "execution_count": 34,
   "id": "97e79136-0358-4b31-b123-2c140ee72b96",
   "metadata": {},
   "outputs": [
    {
     "data": {
      "text/plain": [
       "\"Answer 14 Memory in Python is managed by Python private heap space. All Python objects and data structures are located in a private heap. \\nThis private heap is taken care of by Python Interpreter itself, and a programmer doesn't have access to this private heap.\""
      ]
     },
     "execution_count": 34,
     "metadata": {},
     "output_type": "execute_result"
    }
   ],
   "source": [
    "'''Answer 14 Memory in Python is managed by Python private heap space. All Python objects and data structures are located in a private heap. \n",
    "This private heap is taken care of by Python Interpreter itself, and a programmer doesn't have access to this private heap.'''"
   ]
  },
  {
   "cell_type": "code",
   "execution_count": 35,
   "id": "7c72fe79-3c0f-46e0-8ae0-5ab78d70a507",
   "metadata": {},
   "outputs": [
    {
     "data": {
      "text/plain": [
       "'Answer 15 Open the official Python website in your web browser. Navigate to the Downloads tab for Windows.\\nChoose the latest Python 3 release. In our example, we choose the latest Python 3.7.3 version.\\nClick on the link to download Windows x86 executable installer if you are using a 32-bit installer. \\nIn case your Windows installation is a 64-bit system, then download Windows x86-64 executable installer.'"
      ]
     },
     "execution_count": 35,
     "metadata": {},
     "output_type": "execute_result"
    }
   ],
   "source": [
    "'''Answer 15 to install python  \n",
    "Open the official Python website in your web browser. Navigate to the Downloads tab for Windows.\n",
    "Choose the latest Python 3 release. In our example, we choose the latest Python 3.7.3 version.\n",
    "Click on the link to download Windows x86 executable installer if you are using a 32-bit installer. \n",
    "In case your Windows installation is a 64-bit system, then download Windows x86-64 executable installer.\n",
    "\n",
    "to set path variables\n",
    "Path will be set for executing Python programs.\n",
    "Right click on My Computer and click on properties.\n",
    "Click on Advanced System settings.\n",
    "Click on Environment Variable tab.\n",
    "Click on new tab of user variables.\n",
    "Write path in variable name.\n",
    "Copy the path of Python folder.\n",
    "Paste path of Python in variable value.\n",
    "'''"
   ]
  },
  {
   "cell_type": "code",
   "execution_count": 33,
   "id": "1c8e6598-7cde-479b-9e97-b20caab437ac",
   "metadata": {},
   "outputs": [
    {
     "data": {
      "text/plain": [
       "'Answer 16 Indentation is mandatory in python to define the blocks of statements. \\nIt is preferred to use whitespaces instead of tabs to indent in python. \\nPython uses four spaces as default indentation spaces.'"
      ]
     },
     "execution_count": 33,
     "metadata": {},
     "output_type": "execute_result"
    }
   ],
   "source": [
    "'''Answer 16 Indentation is mandatory in python to define the blocks of statements. \n",
    "It is preferred to use whitespaces instead of tabs to indent in python. \n",
    "Python uses four spaces as default indentation spaces.'''"
   ]
  },
  {
   "cell_type": "code",
   "execution_count": null,
   "id": "59d0f02d-dea2-4db0-8454-1ea29dfa9d11",
   "metadata": {},
   "outputs": [],
   "source": []
  }
 ],
 "metadata": {
  "kernelspec": {
   "display_name": "Python 3 (ipykernel)",
   "language": "python",
   "name": "python3"
  },
  "language_info": {
   "codemirror_mode": {
    "name": "ipython",
    "version": 3
   },
   "file_extension": ".py",
   "mimetype": "text/x-python",
   "name": "python",
   "nbconvert_exporter": "python",
   "pygments_lexer": "ipython3",
   "version": "3.10.8"
  }
 },
 "nbformat": 4,
 "nbformat_minor": 5
}
